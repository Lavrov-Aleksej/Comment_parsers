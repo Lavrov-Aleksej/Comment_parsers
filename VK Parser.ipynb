{
 "cells": [
  {
   "cell_type": "code",
   "execution_count": 16,
   "id": "0c3e6c1e-0f83-4f0e-98b5-e95e17d5853d",
   "metadata": {},
   "outputs": [],
   "source": [
    "import vk_api \n",
    "import pandas as pd\n",
    "from datetime import datetime, timedelta\n",
    "\n",
    "access_token = '9f0e49589f0e49589f0e4958ca9c18fc0499f0e9f0e4958fa8bc775efed21e63550ef79'\n",
    "vk_session = vk_api.VkApi(token=access_token) \n",
    "vk = vk_session.get_api()\n",
    "\n",
    "group_link = 'https://vk.com/te_ekb'\n",
    "group_info = vk.utils.resolveScreenName(screen_name=group_link.replace('https://vk.com/', ''))\n",
    "owner_id = -group_info['object_id'] # ID группы\n",
    "\n",
    "current_time = datetime.now()\n",
    "half_year_ago = current_time - timedelta(days=180)\n",
    "\n",
    "data = []\n",
    "\n",
    "offset = 0\n",
    "count = 100\n",
    "\n",
    "while True:\n",
    "    posts = vk.wall.get(owner_id=owner_id, offset=offset, count=count)['items']\n",
    "    \n",
    "    for post in posts:\n",
    "        post_time = post['date']\n",
    "        post_text = post['text']\n",
    "        \n",
    "        if half_year_ago.timestamp() <= post_time <= current_time.timestamp():\n",
    "            post_time_str = datetime.fromtimestamp(post_time).strftime('%d-%m-%Y')\n",
    "\n",
    "            # Get comments for the current post\n",
    "            comments = vk.wall.getComments(owner_id=owner_id, post_id=post['id'], count=10)\n",
    "            comments_count = comments['count']\n",
    "            \n",
    "            comments_text = []  # Empty list to store comment text\n",
    "            \n",
    "            for comment in comments['items']:\n",
    "                comment_text = comment['text']\n",
    "                comments_text.append(comment_text)\n",
    "\n",
    "            data.append({\n",
    "                'Время публикации': post_time_str,\n",
    "                'Текст поста': post_text,\n",
    "                'Количество комментариев': comments_count,\n",
    "                'Текст комментариев': comments_text\n",
    "            })\n",
    "    \n",
    "    offset += count\n",
    "    \n",
    "    if len(posts) < count or post_time < half_year_ago.timestamp():\n",
    "        break\n",
    "    \n",
    "df = pd.DataFrame(data)\n",
    "df.to_excel('posts_data_with_comments.xlsx', index=False)"
   ]
  }
 ],
 "metadata": {
  "kernelspec": {
   "display_name": "Python 3 (ipykernel)",
   "language": "python",
   "name": "python3"
  },
  "language_info": {
   "codemirror_mode": {
    "name": "ipython",
    "version": 3
   },
   "file_extension": ".py",
   "mimetype": "text/x-python",
   "name": "python",
   "nbconvert_exporter": "python",
   "pygments_lexer": "ipython3",
   "version": "3.10.7"
  }
 },
 "nbformat": 4,
 "nbformat_minor": 5
}
